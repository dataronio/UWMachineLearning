{
 "cells": [
  {
   "cell_type": "code",
   "execution_count": 2,
   "metadata": {
    "collapsed": false
   },
   "outputs": [],
   "source": [
    "import graphlab"
   ]
  },
  {
   "cell_type": "code",
   "execution_count": 3,
   "metadata": {
    "collapsed": false
   },
   "outputs": [
    {
     "name": "stderr",
     "output_type": "stream",
     "text": [
      "2016-04-25 08:13:44,129 [INFO] graphlab.cython.cy_server, 176: GraphLab Create v1.8.5 started. Logging: /tmp/graphlab_server_1461597222.log\n"
     ]
    },
    {
     "name": "stdout",
     "output_type": "stream",
     "text": [
      "This non-commercial license of GraphLab Create is assigned to davidshimer@yahoo.com and will expire on March 11, 2017. For commercial licensing options, visit https://dato.com/buy/.\n"
     ]
    }
   ],
   "source": [
    "sales = graphlab.SFrame('kc_house_data.gl/')"
   ]
  },
  {
   "cell_type": "code",
   "execution_count": 4,
   "metadata": {
    "collapsed": true
   },
   "outputs": [],
   "source": [
    "from math import log\n",
    "import numpy as np\n",
    "from sklearn import linear_model\n",
    "import matplotlib.pyplot as plt\n",
    "%matplotlib inline"
   ]
  },
  {
   "cell_type": "code",
   "execution_count": 5,
   "metadata": {
    "collapsed": true
   },
   "outputs": [],
   "source": [
    "def get_numpy_data(data_sframe, features, output):\n",
    "    #data_sframe['constant'] = 1 # this is how you add a constant column to an SFrame\n",
    "    ## add the column 'constant' to the front of the features list so that we can extract it along with the others:\n",
    "    #features = ['constant'] + features # this is how you combine two lists\n",
    "    # select the columns of data_SFrame given by the features list into the SFrame features_sframe (now including constant):\n",
    "    features_sframe = data_sframe[features]\n",
    "    # the following line will convert the features_SFrame into a numpy matrix:\n",
    "    feature_matrix = features_sframe.to_numpy()\n",
    "    # assign the column of data_sframe associated with the output to the SArray output_sarray\n",
    "    output_sarray = data_sframe[output]\n",
    "    # the following will convert the SArray into a numpy array by first converting it to a list\n",
    "    output_array = output_sarray.to_numpy()\n",
    "    return(feature_matrix, output_array)"
   ]
  },
  {
   "cell_type": "code",
   "execution_count": 6,
   "metadata": {
    "collapsed": true
   },
   "outputs": [],
   "source": [
    "def polynomial_sframe(feature, degree):\n",
    "    # assume that degree >= 1\n",
    "    # initialize the SFrame:\n",
    "    poly_sframe = graphlab.SFrame()\n",
    "    # and set poly_sframe['power_1'] equal to the passed feature\n",
    "    poly_sframe['power_1'] = feature\n",
    "    # first check if degree > 1\n",
    "    if degree > 1:\n",
    "        # then loop over the remaining degrees:\n",
    "        # range usually starts at 0 and stops at the endpoint-1. We want it to start at 2 and stop at degree\n",
    "        for power in range(2, degree+1): \n",
    "            # first we'll give the column a name:\n",
    "            name = 'power_' + str(power)\n",
    "            # then assign poly_sframe[name] to the appropriate power of feature\n",
    "            poly_sframe[name] = feature.apply(lambda x: x**power)\n",
    "    return poly_sframe"
   ]
  },
  {
   "cell_type": "code",
   "execution_count": 7,
   "metadata": {
    "collapsed": true
   },
   "outputs": [],
   "source": [
    "training_and_validation,testing = sales.random_split(0.9,seed=1)\n",
    "training,validation = training_and_validation.random_split(0.9,seed=1)"
   ]
  },
  {
   "cell_type": "code",
   "execution_count": 14,
   "metadata": {
    "collapsed": false
   },
   "outputs": [
    {
     "name": "stdout",
     "output_type": "stream",
     "text": [
      "('Intercept: \\n', -43648.437076913775)\n",
      "('Coefficients: \\n', array([ 280.34257309]))\n",
      "------------------\n",
      "\n",
      "('Intercept: \\n', 199969.60757991346)\n",
      "('Coefficients: \\n', array([  6.79163942e+01,   3.82958833e-02]))\n",
      "------------------\n",
      "\n",
      "('Intercept: \\n', 341727.7549447451)\n",
      "('Coefficients: \\n', array([ -9.39567250e+01,   8.72560813e-02,  -3.77574108e-06]))\n",
      "------------------\n",
      "\n",
      "('Intercept: \\n', 153716.16264044226)\n",
      "('Coefficients: \\n', array([  1.81569860e+02,  -3.56241665e-02,   1.58511533e-05,\n",
      "        -9.30235527e-10]))\n",
      "------------------\n",
      "\n",
      "('Intercept: \\n', 232910.59797942854)\n",
      "('Coefficients: \\n', array([  5.19814759e-05,   9.47042578e-02,  -2.14340680e-05,\n",
      "         3.37749018e-09,  -1.64007696e-13]))\n",
      "------------------\n",
      "\n",
      "('Intercept: \\n', 294086.43232705421)\n",
      "('Coefficients: \\n', array([  7.77215999e-12,   6.37651942e-08,   4.05896508e-05,\n",
      "        -1.11676818e-08,   1.22866796e-12,  -4.58430642e-17]))\n",
      "------------------\n",
      "\n",
      "('Intercept: \\n', 356648.80875012686)\n",
      "('Coefficients: \\n', array([  5.78469462e-19,   1.67973824e-11,   6.63894304e-12,\n",
      "         1.18576107e-08,  -3.35193260e-12,   3.32397914e-16,\n",
      "        -1.10260009e-20]))\n",
      "------------------\n",
      "\n",
      "('Intercept: \\n', 412979.26662920741)\n",
      "('Coefficients: \\n', array([  2.51318735e-26,   9.02134062e-15,   5.01366570e-19,\n",
      "         1.33211606e-15,   2.58372757e-12,  -7.16023182e-16,\n",
      "         6.70542866e-20,  -2.08655445e-24]))\n",
      "------------------\n",
      "\n",
      "('Intercept: \\n', 458147.36683781759)\n",
      "('Coefficients: \\n', array([  6.87009770e-34,  -4.64043787e-18,   2.66454210e-23,\n",
      "         6.47999999e-23,   2.08912115e-19,   4.40852832e-16,\n",
      "        -1.18435770e-19,   1.06379217e-23,  -3.17167536e-28]))\n",
      "------------------\n",
      "\n",
      "('Intercept: \\n', 488996.92270649609)\n",
      "('Coefficients: \\n', array([  1.33134796e-41,  -1.49760671e-21,  -1.37252263e-28,\n",
      "         1.87802967e-30,   7.99506679e-27,   2.78442286e-23,\n",
      "         6.29599826e-20,  -1.64407948e-23,   1.43116999e-27,\n",
      "        -4.13781535e-32]))\n",
      "------------------\n",
      "\n",
      "('Intercept: \\n', 507333.04106945125)\n",
      "('Coefficients: \\n', array([  2.15669997e-49,   4.03111479e-25,   1.04799837e-30,\n",
      "         9.50317302e-37,   2.10611855e-34,   9.39141164e-31,\n",
      "         3.46019377e-27,   8.20175261e-24,  -2.10077221e-27,\n",
      "         1.79155271e-31,  -5.07620705e-36]))\n",
      "------------------\n",
      "\n",
      "('Intercept: \\n', 518003.24311348144)\n",
      "('Coefficients: \\n', array([  3.18469172e-57,  -1.17498104e-28,   6.79996698e-35,\n",
      "         1.22911041e-39,   4.66352131e-42,   2.34098535e-38,\n",
      "         1.09090559e-34,   4.16905274e-31,   1.01811362e-27,\n",
      "        -2.58155044e-31,   2.17720385e-35,  -6.09957196e-40]))\n",
      "------------------\n",
      "\n",
      "('Intercept: \\n', 533830.50998120219)\n",
      "('Coefficients: \\n', array([  4.97026760e-75,  -7.13627617e-42,  -1.63025288e-47,\n",
      "         4.15737305e-72,   7.73964761e-59,   2.06785269e-55,\n",
      "         1.58509727e-51,   1.15255828e-47,   7.64858451e-44,\n",
      "         4.28119781e-40,   1.61447330e-36,  -2.47777597e-40,\n",
      "         9.49705570e-45]))\n",
      "------------------\n",
      "\n",
      "('Intercept: \\n', 534877.65853526013)\n",
      "('Coefficients: \\n', array([  4.50901400e-83,  -5.21887969e-46,  -9.04107205e-52,\n",
      "        -2.03915765e-56,   9.38583079e-67,   2.33210793e-63,\n",
      "         1.89404075e-59,   1.48511143e-55,   1.09985893e-51,\n",
      "         7.40782073e-48,   4.19634085e-44,   1.59786770e-40,\n",
      "        -2.45748076e-44,   9.43668974e-49]))\n",
      "------------------\n",
      "\n",
      "('Intercept: \\n', 535543.69838186074)\n",
      "('Coefficients: \\n', array([  4.16622812e-91,   1.93069855e-50,   7.40712218e-56,\n",
      "         2.48920611e-60,   1.08949683e-74,   2.55464971e-71,\n",
      "         2.16463189e-67,   1.78923346e-63,   1.42304774e-59,\n",
      "         1.06605366e-55,   7.24683155e-52,   4.13593436e-48,\n",
      "         1.58443994e-44,  -2.44269343e-48,   9.39999431e-53]))\n",
      "------------------\n",
      "\n",
      "{1: 136042353460817.12, 2: 127580768868635.94, 3: 126499021517032.84, 4: 128326513153257.27, 5: 129613968497594.5, 6: 128600433113374.88, 7: 127334961207581.5, 8: 133869357689147.69, 9: 151515493370972.0, 10: 176627549783380.28, 11: 201769927762806.88, 12: 221859120198667.0, 13: 256005511121808.81, 14: 258554759475699.31, 15: 260399023119367.38}\n"
     ]
    }
   ],
   "source": [
    "RSS = {}\n",
    "for degree in range(1,15+1):\n",
    "    poly_data_training = polynomial_sframe(training['sqft_living'], degree)\n",
    "    my_features = poly_data_training.column_names() # get the name of the features\n",
    "    #poly_data_training['price'] = training['price'] # add price to the data since it's the target\n",
    "    #modeltrain = graphlab.linear_regression.create(poly_data_training, target = 'price',\n",
    "    #                                               features = my_features, validation_set = None, verbose=False)\n",
    "    nump_training_input = poly_data_training.to_numpy()\n",
    "    nump_training_output = training['price'].to_numpy()\n",
    "    # now we train our models scikit style\n",
    "    regr = linear_model.LinearRegression()\n",
    "    regr.fit(nump_training_input,nump_training_output)\n",
    "    print('Intercept: \\n', regr.intercept_)\n",
    "    print('Coefficients: \\n',  regr.coef_)\n",
    "    print('------------------\\n')\n",
    "    # The mean square error\n",
    "    #print(\"Residual sum of squares: %.2f\" % np.mean((regr.predict(diabetes_X_test) - diabetes_y_test) ** 2))\n",
    "    \n",
    "    poly_data_validation = polynomial_sframe(validation['sqft_living'], degree)\n",
    "    nump_validation_input = poly_data_validation.to_numpy()\n",
    "    #poly_data_validation['price'] = validation['price'] # add price to the validation data since it's the target\n",
    "    #predictions = modeltrain.predict(poly_data_validation)\n",
    "    nump_validation_output = validation['price'].to_numpy()\n",
    "    outcome = nump_validation_output\n",
    "    predictions = regr.predict(nump_validation_input)\n",
    "    # Then compute the residuals/errors\n",
    "    residuals = outcome - predictions\n",
    "    # Then square and add them up\n",
    "    RSS[degree] = (residuals * residuals).sum()\n",
    "print RSS"
   ]
  },
  {
   "cell_type": "code",
   "execution_count": 9,
   "metadata": {
    "collapsed": false
   },
   "outputs": [
    {
     "data": {
      "text/plain": [
       "126499021517032.84"
      ]
     },
     "execution_count": 9,
     "metadata": {},
     "output_type": "execute_result"
    }
   ],
   "source": [
    "min(RSS.values())"
   ]
  },
  {
   "cell_type": "code",
   "execution_count": null,
   "metadata": {
    "collapsed": true
   },
   "outputs": [],
   "source": []
  }
 ],
 "metadata": {
  "kernelspec": {
   "display_name": "Python 2",
   "language": "python2",
   "name": "python2"
  },
  "language_info": {
   "codemirror_mode": {
    "name": "ipython",
    "version": 2
   },
   "file_extension": ".py",
   "mimetype": "text/x-python",
   "name": "python",
   "nbconvert_exporter": "python",
   "pygments_lexer": "ipython2",
   "version": "2.7.11"
  }
 },
 "nbformat": 4,
 "nbformat_minor": 0
}
